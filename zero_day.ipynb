{
 "cells": [
  {
   "cell_type": "markdown",
   "metadata": {},
   "source": [
    "---\n",
    "<center>\n",
    "<h1>  zero_day </h1>\n",
    "</center>\n",
    "\n",
    "---\n"
   ]
  },
  {
   "cell_type": "markdown",
   "metadata": {},
   "source": [
    "---\n",
    "<center>\n",
    "<h1>  Setting up your local coding environment  </h1>\n",
    "</center>\n",
    "\n",
    "---\n"
   ]
  },
  {
   "cell_type": "markdown",
   "metadata": {},
   "source": [
    "### 0. Create and setup your Git and GitHub account"
   ]
  },
  {
   "cell_type": "code",
   "execution_count": 1,
   "metadata": {},
   "outputs": [
    {
     "name": "stdout",
     "output_type": "stream",
     "text": [
      "Writing README.md\n"
     ]
    }
   ],
   "source": [
    "%%file README.md\n",
    "\n",
    "This is a mandatory file."
   ]
  },
  {
   "cell_type": "markdown",
   "metadata": {},
   "source": [
    "### 1. Hello Ubuntu"
   ]
  },
  {
   "cell_type": "code",
   "execution_count": 2,
   "metadata": {},
   "outputs": [],
   "source": [
    "# Create a folder if it doesn't exist\n",
    "import os\n",
    "\n",
    "folder_path = r'C:\\Users\\komy2\\OneDrive\\Desktop\\AlxSE\\Repos\\zero_day\\0x00-vagrant'\n",
    "if not os.path.exists(folder_path):\n",
    "    os.makedirs(folder_path)\n",
    "\n",
    "# Create and write to the file using open\n",
    "file_path = os.path.join(folder_path, '0-hello_ubuntu')\n",
    "\n",
    "with open(file_path, 'w') as file:\n",
    "    file.write(\"Linux\")\n",
    "# Create a README.md\n",
    "file_path = os.path.join(folder_path, 'README.md')\n",
    "\n",
    "with open(file_path, 'w') as file:\n",
    "    file.write(\"This is a mandatory file\")"
   ]
  },
  {
   "cell_type": "markdown",
   "metadata": {},
   "source": [
    "### NEXT alx-zero_day"
   ]
  },
  {
   "cell_type": "code",
   "execution_count": 1,
   "metadata": {},
   "outputs": [],
   "source": [
    "import os\n",
    "# creating alx-zero_day folder\n",
    "\n",
    "folder_path = r'C:\\Users\\komy2\\OneDrive\\Desktop\\AlxSE\\Repos\\alx-zero_day'\n",
    "if not os.path.exists(folder_path):\n",
    "    os.makedirs(folder_path)\n",
    "\n",
    "# Create a README.md inside alx-zero_day\n",
    "file_path = os.path.join(folder_path, 'README.md')\n",
    "\n",
    "with open(file_path, 'w') as file:\n",
    "    file.write(\"This is a mandatory file\")"
   ]
  },
  {
   "cell_type": "code",
   "execution_count": 2,
   "metadata": {},
   "outputs": [],
   "source": [
    "import shutil\n",
    "\n",
    "# copy the ipynb file from zero_day to alx-zero_day\n",
    "\n",
    "source_file = \"C:/Users/komy2/OneDrive/Desktop/AlxSE/Repos/zero_day/zero_day.ipynb\"  \n",
    "dest_folder = \"C:/Users/komy2/OneDrive/Desktop/AlxSE/Repos/alx-zero_day\"  "
   ]
  },
  {
   "cell_type": "code",
   "execution_count": 7,
   "metadata": {},
   "outputs": [
    {
     "name": "stdout",
     "output_type": "stream",
     "text": [
      "Microsoft Windows [Version 10.0.22631.3007]\n",
      "(c) Microsoft Corporation. All rights reserved.\n",
      "\n",
      "(c:\\Users\\komy2\\OneDrive\\Desktop\\AlxSE\\Repos\\zero_day\\.conda) c:\\Users\\komy2\\OneDrive\\Desktop\\AlxSE\\Repos\\zero_day>copy \"C:/Users/komy2/OneDrive/Desktop/AlxSE/Repos/zero_day/zero_day.ipynb\" \"C:/Users/komy2/OneDrive/Desktop/AlxSE/Repos/alx-zero_day\"\n",
      "        1 file(s) copied.\n",
      "\n",
      "(c:\\Users\\komy2\\OneDrive\\Desktop\\AlxSE\\Repos\\zero_day\\.conda) c:\\Users\\komy2\\OneDrive\\Desktop\\AlxSE\\Repos\\zero_day>"
     ]
    }
   ],
   "source": [
    "%%cmd\n",
    "copy \"C:/Users/komy2/OneDrive/Desktop/AlxSE/Repos/zero_day/zero_day.ipynb\" \"C:/Users/komy2/OneDrive/Desktop/AlxSE/Repos/alx-zero_day\"\n"
   ]
  },
  {
   "cell_type": "code",
   "execution_count": 10,
   "metadata": {},
   "outputs": [],
   "source": [
    "\n",
    "!cp \"C:/Users/komy2/OneDrive/Desktop/AlxSE/Repos/zero_day/zero_day.ipynb\" \"C:/Users/komy2/OneDrive/Desktop/AlxSE/Repos/alx-zero_day\"\n"
   ]
  },
  {
   "cell_type": "code",
   "execution_count": null,
   "metadata": {},
   "outputs": [],
   "source": []
  }
 ],
 "metadata": {
  "kernelspec": {
   "display_name": "Python 3",
   "language": "python",
   "name": "python3"
  },
  "language_info": {
   "codemirror_mode": {
    "name": "ipython",
    "version": 3
   },
   "file_extension": ".py",
   "mimetype": "text/x-python",
   "name": "python",
   "nbconvert_exporter": "python",
   "pygments_lexer": "ipython3",
   "version": "3.12.1"
  }
 },
 "nbformat": 4,
 "nbformat_minor": 2
}
